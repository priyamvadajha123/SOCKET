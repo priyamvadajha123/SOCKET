{
 "cells": [
  {
   "cell_type": "code",
   "execution_count": 1,
   "metadata": {},
   "outputs": [],
   "source": [
    "import socket\n",
    "import os\n"
   ]
  },
  {
   "cell_type": "code",
   "execution_count": 2,
   "metadata": {},
   "outputs": [],
   "source": [
    "# ip = 192.168.0.6 "
   ]
  },
  {
   "cell_type": "code",
   "execution_count": 3,
   "metadata": {},
   "outputs": [
    {
     "data": {
      "text/plain": [
       "'192.168.56.1'"
      ]
     },
     "execution_count": 3,
     "metadata": {},
     "output_type": "execute_result"
    }
   ],
   "source": [
    "soc  = socket.socket(socket.AF_INET, socket.SOCK_STREAM)\n",
    "socket.gethostbyname(socket.gethostname())"
   ]
  },
  {
   "cell_type": "code",
   "execution_count": 4,
   "metadata": {},
   "outputs": [
    {
     "data": {
      "text/plain": [
       "'192.168.56.1'"
      ]
     },
     "execution_count": 4,
     "metadata": {},
     "output_type": "execute_result"
    }
   ],
   "source": [
    "socket.gethostbyname(socket.gethostname()) "
   ]
  },
  {
   "cell_type": "code",
   "execution_count": 5,
   "metadata": {},
   "outputs": [
    {
     "name": "stdout",
     "output_type": "stream",
     "text": [
      "\n",
      "\n",
      "Windows IP Configuration\n",
      "\n",
      "\n",
      "\n",
      "\n",
      "\n",
      "Ethernet adapter Ethernet:\n",
      "\n",
      "\n",
      "\n",
      "   Media State . . . . . . . . . . . : Media disconnected\n",
      "\n",
      "   Connection-specific DNS Suffix  . : \n",
      "\n",
      "\n",
      "\n",
      "Ethernet adapter VirtualBox Host-Only Network:\n",
      "\n",
      "\n",
      "\n",
      "   Connection-specific DNS Suffix  . : \n",
      "\n",
      "   IPv4 Address. . . . . . . . . . . : 192.168.56.1\n",
      "\n",
      "   Subnet Mask . . . . . . . . . . . : 255.255.255.0\n",
      "\n",
      "   Default Gateway . . . . . . . . . : \n",
      "\n",
      "\n",
      "\n",
      "Ethernet adapter Ethernet 2:\n",
      "\n",
      "\n",
      "\n",
      "   Media State . . . . . . . . . . . : Media disconnected\n",
      "\n",
      "   Connection-specific DNS Suffix  . : \n",
      "\n",
      "\n",
      "\n",
      "Wireless LAN adapter Local Area Connection* 2:\n",
      "\n",
      "\n",
      "\n",
      "   Media State . . . . . . . . . . . : Media disconnected\n",
      "\n",
      "   Connection-specific DNS Suffix  . : \n",
      "\n",
      "\n",
      "\n",
      "Wireless LAN adapter Local Area Connection* 3:\n",
      "\n",
      "\n",
      "\n",
      "   Media State . . . . . . . . . . . : Media disconnected\n",
      "\n",
      "   Connection-specific DNS Suffix  . : \n",
      "\n",
      "\n",
      "\n",
      "Ethernet adapter Ethernet 4:\n",
      "\n",
      "\n",
      "\n",
      "   Media State . . . . . . . . . . . : Media disconnected\n",
      "\n",
      "   Connection-specific DNS Suffix  . : \n",
      "\n",
      "\n",
      "\n",
      "Wireless LAN adapter Wi-Fi:\n",
      "\n",
      "\n",
      "\n",
      "   Connection-specific DNS Suffix  . : \n",
      "\n",
      "   IPv4 Address. . . . . . . . . . . : 192.168.0.6\n",
      "\n",
      "   Subnet Mask . . . . . . . . . . . : 255.255.255.0\n",
      "\n",
      "   Default Gateway . . . . . . . . . : 192.168.0.1\n",
      "\n"
     ]
    }
   ],
   "source": [
    "i = os.popen('ipconfig')\n",
    "for _ in i:\n",
    "    print(_)"
   ]
  },
  {
   "cell_type": "code",
   "execution_count": 21,
   "metadata": {},
   "outputs": [
    {
     "name": "stdout",
     "output_type": "stream",
     "text": [
      "Overwriting server.py\n"
     ]
    }
   ],
   "source": [
    "%%writefile server.py\n",
    "\n",
    "import os\n",
    "import socket \n",
    "\n",
    "#1. making the socket \n",
    "server = socket.socket(socket.AF_INET , socket.SOCK_STREAM)\n",
    "\n",
    "ip = '192.168.0.6'\n",
    "port = 1234\n",
    "\n",
    "#2. binding the socket\n",
    "server.bind((ip , port))\n",
    "print(f\"\\n The server socket is created at ip {ip} and port {port}\")\n",
    "\n",
    "#3. ready to listening\n",
    "server.listen()\n",
    "print('\\nserver is ready to listen to client')\n",
    "\n",
    "#4. accept the client\n",
    "client_socket , client_addr = server.accept()\n",
    "\n",
    "msg = f\"Welcome at ip : {client_addr[0]} and port : {client_addr[1]}\"\n",
    "\n",
    "#5. sending \n",
    "client_socket.send(msg.encode())\n",
    "\n",
    "#6. receving\n",
    "print('\\nwaiting for msg form client.......')\n",
    "\n",
    "cmsg = client_socket.recv(1024).decode()\n",
    "\n",
    "print('\\nclient msg: ',cmsg)\n",
    "   "
   ]
  },
  {
   "cell_type": "code",
   "execution_count": 22,
   "metadata": {},
   "outputs": [
    {
     "name": "stdout",
     "output_type": "stream",
     "text": [
      "Overwriting client.py\n"
     ]
    }
   ],
   "source": [
    "%%writefile client.py\n",
    "\n",
    "import os\n",
    "import socket\n",
    "\n",
    "#1. making of socket\n",
    "client = socket.socket(socket.AF_INET , socket.SOCK_STREAM)\n",
    "\n",
    "#2. connecting to sever\n",
    "ip = input(\"\\nEnter the sever's ip: \")\n",
    "port = int(input(\"\\nEnter the sever's port no. \"))\n",
    "\n",
    "print('\\nTrying to conect.......')\n",
    "client.connect((ip,port))\n",
    "\n",
    "print('\\nSuccessfully CONNECTED')\n",
    "\n",
    "#3.receving the msg\n",
    "print('\\nWaiting for the message......')\n",
    "\n",
    "smsg = client.recv(1024).decode()\n",
    "print(\"\\nServer msg: \",smsg)\n",
    "\n",
    "msg = \"Thanks a lot....\"\n",
    "\n",
    "client.send(msg.encode())\n",
    "print(\"\\n Closing the socket....\")\n",
    "\n",
    "client.close()"
   ]
  },
  {
   "cell_type": "code",
   "execution_count": null,
   "metadata": {},
   "outputs": [],
   "source": []
  },
  {
   "cell_type": "code",
   "execution_count": null,
   "metadata": {},
   "outputs": [],
   "source": [
    "%%writefile server1.py\n",
    "\n",
    "import os \n",
    "import socket\n",
    "\n",
    "sever = socket.socket(so)"
   ]
  }
 ],
 "metadata": {
  "kernelspec": {
   "display_name": "Python 3",
   "language": "python",
   "name": "python3"
  },
  "language_info": {
   "codemirror_mode": {
    "name": "ipython",
    "version": 3
   },
   "file_extension": ".py",
   "mimetype": "text/x-python",
   "name": "python",
   "nbconvert_exporter": "python",
   "pygments_lexer": "ipython3",
   "version": "3.7.6"
  }
 },
 "nbformat": 4,
 "nbformat_minor": 4
}

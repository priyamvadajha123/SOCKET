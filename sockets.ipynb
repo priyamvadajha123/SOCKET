{
 "cells": [
  {
   "cell_type": "code",
   "execution_count": 14,
   "metadata": {},
   "outputs": [],
   "source": [
    "import socket\n",
    "import os\n"
   ]
  },
  {
   "cell_type": "code",
   "execution_count": 15,
   "metadata": {},
   "outputs": [],
   "source": [
    "# ip = 192.168.0.6 "
   ]
  },
  {
   "cell_type": "code",
   "execution_count": 16,
   "metadata": {},
   "outputs": [
    {
     "data": {
      "text/plain": [
       "'192.168.56.1'"
      ]
     },
     "execution_count": 16,
     "metadata": {},
     "output_type": "execute_result"
    }
   ],
   "source": [
    "soc  = socket.socket(socket.AF_INET, socket.SOCK_STREAM)\n",
    "socket.gethostbyname(socket.gethostname())"
   ]
  },
  {
   "cell_type": "code",
   "execution_count": 17,
   "metadata": {},
   "outputs": [
    {
     "data": {
      "text/plain": [
       "'192.168.56.1'"
      ]
     },
     "execution_count": 17,
     "metadata": {},
     "output_type": "execute_result"
    }
   ],
   "source": [
    "socket.gethostbyname(socket.gethostname()) "
   ]
  },
  {
   "cell_type": "code",
   "execution_count": 18,
   "metadata": {},
   "outputs": [
    {
     "name": "stdout",
     "output_type": "stream",
     "text": [
      "\n",
      "\n",
      "Windows IP Configuration\n",
      "\n",
      "\n",
      "\n",
      "\n",
      "\n",
      "Ethernet adapter Ethernet:\n",
      "\n",
      "\n",
      "\n",
      "   Media State . . . . . . . . . . . : Media disconnected\n",
      "\n",
      "   Connection-specific DNS Suffix  . : \n",
      "\n",
      "\n",
      "\n",
      "Ethernet adapter VirtualBox Host-Only Network:\n",
      "\n",
      "\n",
      "\n",
      "   Connection-specific DNS Suffix  . : \n",
      "\n",
      "   IPv4 Address. . . . . . . . . . . : 192.168.56.1\n",
      "\n",
      "   Subnet Mask . . . . . . . . . . . : 255.255.255.0\n",
      "\n",
      "   Default Gateway . . . . . . . . . : \n",
      "\n",
      "\n",
      "\n",
      "Ethernet adapter Ethernet 2:\n",
      "\n",
      "\n",
      "\n",
      "   Media State . . . . . . . . . . . : Media disconnected\n",
      "\n",
      "   Connection-specific DNS Suffix  . : \n",
      "\n",
      "\n",
      "\n",
      "Wireless LAN adapter Local Area Connection* 2:\n",
      "\n",
      "\n",
      "\n",
      "   Media State . . . . . . . . . . . : Media disconnected\n",
      "\n",
      "   Connection-specific DNS Suffix  . : \n",
      "\n",
      "\n",
      "\n",
      "Wireless LAN adapter Local Area Connection* 3:\n",
      "\n",
      "\n",
      "\n",
      "   Media State . . . . . . . . . . . : Media disconnected\n",
      "\n",
      "   Connection-specific DNS Suffix  . : \n",
      "\n",
      "\n",
      "\n",
      "Ethernet adapter Ethernet 4:\n",
      "\n",
      "\n",
      "\n",
      "   Media State . . . . . . . . . . . : Media disconnected\n",
      "\n",
      "   Connection-specific DNS Suffix  . : \n",
      "\n",
      "\n",
      "\n",
      "Wireless LAN adapter Wi-Fi:\n",
      "\n",
      "\n",
      "\n",
      "   Connection-specific DNS Suffix  . : \n",
      "\n",
      "   IPv4 Address. . . . . . . . . . . : 192.168.0.6\n",
      "\n",
      "   Subnet Mask . . . . . . . . . . . : 255.255.255.0\n",
      "\n",
      "   Default Gateway . . . . . . . . . : 192.168.0.1\n",
      "\n"
     ]
    }
   ],
   "source": [
    "i = os.popen('ipconfig')\n",
    "for _ in i:\n",
    "    print(_)"
   ]
  },
  {
   "cell_type": "code",
   "execution_count": 19,
   "metadata": {},
   "outputs": [
    {
     "name": "stdout",
     "output_type": "stream",
     "text": [
      "Overwriting server.py\n"
     ]
    }
   ],
   "source": [
    "%%writefile server.py\n",
    "\n",
    "import os\n",
    "import socket \n",
    "\n",
    "#1. making the socket \n",
    "server = socket.socket(socket.AF_INET , socket.SOCK_STREAM)\n",
    "\n",
    "ip = '192.168.0.6'\n",
    "port = 1234\n",
    "\n",
    "#2. binding the socket\n",
    "server.bind((ip , port))\n",
    "print(f\"\\n The server socket is created at ip {ip} and port {port}\")\n",
    "\n",
    "#3. ready to listening\n",
    "server.listen()\n",
    "print('\\nserver is ready to listen to client')\n",
    "\n",
    "#4. accept the client\n",
    "client_socket , client_addr = server.accept()\n",
    "\n",
    "msg = f\"Welcome at ip : {client_addr[0]} and port : {client_addr[1]}\"\n",
    "\n",
    "#5. sending \n",
    "client_socket.send(msg.encode())\n",
    "\n",
    "#6. receving\n",
    "print('\\nwaiting for msg form client.......')\n",
    "\n",
    "cmsg = client_socket.recv(1024).decode()\n",
    "\n",
    "print('\\nclient msg: ',cmsg)\n",
    "   "
   ]
  },
  {
   "cell_type": "code",
   "execution_count": 20,
   "metadata": {},
   "outputs": [
    {
     "name": "stdout",
     "output_type": "stream",
     "text": [
      "Overwriting client.py\n"
     ]
    }
   ],
   "source": [
    "%%writefile client.py\n",
    "\n",
    "import os\n",
    "import socket\n",
    "\n",
    "#1. making of socket\n",
    "client = socket.socket(socket.AF_INET , socket.SOCK_STREAM)\n",
    "\n",
    "#2. connecting to sever\n",
    "ip = input(\"\\nEnter the sever's ip: \")\n",
    "port = int(input(\"\\nEnter the sever's port no. \"))\n",
    "\n",
    "print('\\nTrying to conect.......')\n",
    "client.connect((ip,port))\n",
    "\n",
    "print('\\nSuccessfully CONNECTED')\n",
    "\n",
    "#3.receving the msg\n",
    "print('\\nWaiting for the message......')\n",
    "\n",
    "smsg = client.recv(1024).decode()\n",
    "print(\"\\nServer msg: \",smsg)\n",
    "\n",
    "msg = \"Thanks a lot....\"\n",
    "\n",
    "client.send(msg.encode())\n",
    "print(\"\\n Closing the socket....\")\n",
    "\n",
    "client.close()"
   ]
  },
  {
   "cell_type": "code",
   "execution_count": null,
   "metadata": {},
   "outputs": [],
   "source": []
  },
  {
   "cell_type": "code",
   "execution_count": 21,
   "metadata": {},
   "outputs": [
    {
     "name": "stdout",
     "output_type": "stream",
     "text": [
      "Overwriting server1.py\n"
     ]
    }
   ],
   "source": [
    "%%writefile server1.py\n",
    "\n",
    "import os \n",
    "import socket\n",
    "\n",
    "server = socket.socket(socket.AF_INET, socket.SOCK_STREAM)\n",
    "\n",
    "ip = '192.168.0.6'\n",
    "port = 1234\n",
    "\n",
    "server.bind((ip,port))\n",
    "print(f'\\nSrever Socket craeted at IP:{ip} and Port:{port}')\n",
    "\n",
    "print('\\n\\nServer TRYING TO CONNECT.....')\n",
    "server.listen()\n",
    "\n",
    "c_soc,c_addr = server.accept()\n",
    "msg = '\\nConnected Successfully'\n",
    "\n",
    "print(msg)\n",
    "\n",
    "c_soc.send(msg.encode())\n",
    "c_soc.send(f\"\\n\\nWelcome to the Client Socket at IP: {c_addr[0]} and Port: {c_addr[1]}\".encode())\n",
    "\n",
    "\n",
    "l = ['bye' ,'buhbye', 'by', 'tata', 'see you' ,'ttly', 'gtg']\n",
    "\n",
    "\n",
    "while True:\n",
    "    \n",
    "    msg = input('Sever: ')\n",
    "    c_soc.send(msg.encode())\n",
    "    \n",
    "    if msg.lower().strip() in l:\n",
    "        print(\"\\nServer side wants to close the side\")\n",
    "        server.close()\n",
    "        c_soc.close()\n",
    "        break\n",
    "    \n",
    "    cmsg = c_soc.recv(1024).decode()\n",
    "    print('\\nClient: ',cmsg) \n",
    "    if cmsg.lower().strip() in l:\n",
    "        \n",
    "        print('\\nClient side wants to close the side')\n",
    "        server.close()\n",
    "        c_soc.close()\n",
    "        break\n"
   ]
  },
  {
   "cell_type": "code",
   "execution_count": 22,
   "metadata": {},
   "outputs": [
    {
     "name": "stdout",
     "output_type": "stream",
     "text": [
      "Overwriting client1.py\n"
     ]
    }
   ],
   "source": [
    "%%writefile client1.py\n",
    "\n",
    "import os \n",
    "import socket\n",
    "\n",
    "client = socket.socket(socket.AF_INET, socket.SOCK_STREAM)\n",
    "\n",
    "ip = input('\\nEnter the IP: ')\n",
    "port = int(input('\\nEnter the Port: '))\n",
    "\n",
    "client.connect((ip,port))\n",
    "\n",
    "smsg = client.recv(1024).decode()\n",
    "print(smsg)\n",
    "smsg = client.recv(1024).decode()\n",
    "print(smsg)\n",
    "\n",
    "l = ['bye' ,'buhbye', 'by', 'tata', 'see you' ,'ttly', 'gtg']\n",
    "\n",
    "while  True:\n",
    "    smsg = client.recv(1024).decode()\n",
    "    print('\\nSever: ',smsg)\n",
    "    \n",
    "    if smsg.lower().strip() in l:\n",
    "        print('\\nSever side wants to close the chat')\n",
    "        client.close()\n",
    "        break\n",
    "\n",
    "    cmsg = input('Client: ')\n",
    "    client.send(cmsg.encode())\n",
    "    \n",
    "    if cmsg.lower().strip() in l:\n",
    "        print('\\nClient side wants to close the chat')\n",
    "        client.close()\n",
    "        break\n",
    "    "
   ]
  },
  {
   "cell_type": "code",
   "execution_count": 23,
   "metadata": {},
   "outputs": [
    {
     "name": "stdout",
     "output_type": "stream",
     "text": [
      "Overwriting server2.py\n"
     ]
    }
   ],
   "source": [
    "%%writefile server2.py\n",
    "\n",
    "import os \n",
    "import socket\n",
    "\n",
    "server = socket.socket(socket.AF_INET, socket.SOCK_STREAM)\n",
    "\n",
    "ip = '192.168.0.6'\n",
    "port = 1234\n",
    "\n",
    "server.bind((ip,port))\n",
    "print(f'\\nSrever Socket craeted at IP:{ip} and Port:{port}')\n",
    "\n",
    "print('\\n\\nServer TRYING TO CONNECT.....')\n",
    "server.listen()\n",
    "\n",
    "c_soc,c_addr = server.accept()\n",
    "msg = '\\nConnected Successfully'\n",
    "\n",
    "print(msg)\n",
    "\n",
    "c_soc.send(msg.encode())\n",
    "c_soc.send(f\"\\n\\nWelcome to the Client Socket at IP: {c_addr[0]} and Port: {c_addr[1]}\".encode())\n",
    "\n",
    "\n",
    "l = ['bye' ,'buhbye', 'by', 'tata', 'see you' ,'ttly', 'gtg']\n",
    "\n",
    "flag = True\n",
    "while flag:\n",
    "    \n",
    "    msg = input('Sever: ')\n",
    "    c_soc.send(msg.encode())\n",
    "    \n",
    "    for i in msg.lower().strip().split():\n",
    "        if i in l:\n",
    "            print(\"\\nServer side wants to close the side\")\n",
    "            flag = False\n",
    "            c_soc.close()\n",
    "            server.close()\n",
    "            break\n",
    "   \n",
    "    else:\n",
    "        cmsg = c_soc.recv(1024).decode()\n",
    "        print('\\nClient: ',cmsg)\n",
    "\n",
    "        for i in cmsg.lower().strip().split():\n",
    "            if i in l:\n",
    "                print('\\nClient side wants to close the side')\n",
    "                flag = False\n",
    "                server.close()\n",
    "                c_soc.close()\n",
    "                break\n"
   ]
  },
  {
   "cell_type": "code",
   "execution_count": 24,
   "metadata": {},
   "outputs": [
    {
     "name": "stdout",
     "output_type": "stream",
     "text": [
      "Overwriting client2.py\n"
     ]
    }
   ],
   "source": [
    "%%writefile client2.py\n",
    "\n",
    "import os \n",
    "import socket\n",
    "\n",
    "client = socket.socket(socket.AF_INET, socket.SOCK_STREAM)\n",
    "\n",
    "ip = \"192.168.0.6\"\n",
    "port = 1234\n",
    "\n",
    "client.connect((ip,port))\n",
    "\n",
    "smsg = client.recv(1024).decode()\n",
    "print(smsg)\n",
    "smsg = client.recv(1024).decode()\n",
    "print(smsg)\n",
    "\n",
    "l = ['bye' ,'buhbye', 'by', 'tata', 'see you' ,'ttly', 'gtg']\n",
    "flag = True\n",
    "while flag:\n",
    "    smsg = client.recv(1024).decode()\n",
    "    print('\\nSever: ',smsg)\n",
    "    \n",
    "    for i in smsg.lower().strip().split():\n",
    "        if i in l:\n",
    "            print('\\nSever side wants to close the chat')\n",
    "            flag = False\n",
    "            client.close()\n",
    "            break\n",
    "    else:\n",
    "        cmsg = input('Client: ')\n",
    "        client.send(cmsg.encode())\n",
    "\n",
    "        for i in cmsg.lower().strip().split(): \n",
    "            if i in l:\n",
    "                print('\\nClient side wants to close the chat')\n",
    "                flag = False\n",
    "                client.close()\n",
    "                break\n"
   ]
  },
  {
   "cell_type": "code",
   "execution_count": null,
   "metadata": {},
   "outputs": [],
   "source": []
  }
 ],
 "metadata": {
  "kernelspec": {
   "display_name": "Python 3",
   "language": "python",
   "name": "python3"
  },
  "language_info": {
   "codemirror_mode": {
    "name": "ipython",
    "version": 3
   },
   "file_extension": ".py",
   "mimetype": "text/x-python",
   "name": "python",
   "nbconvert_exporter": "python",
   "pygments_lexer": "ipython3",
   "version": "3.7.6"
  }
 },
 "nbformat": 4,
 "nbformat_minor": 4
}
